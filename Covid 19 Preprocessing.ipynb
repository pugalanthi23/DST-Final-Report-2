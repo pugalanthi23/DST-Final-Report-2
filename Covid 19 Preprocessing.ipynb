{
  "cells": [
    {
      "cell_type": "markdown",
      "metadata": {
        "id": "c1L0TOtJ8cov"
      },
      "source": [
        "# Importing libraries"
      ]
    },
    {
      "cell_type": "code",
      "execution_count": null,
      "metadata": {
        "id": "Ugd7hKmgNPU2"
      },
      "outputs": [],
      "source": [
        "from IPython.display import clear_output as cls\n",
        "from sklearn.feature_extraction.text import CountVectorizer\n",
        "!pip install langdetect\n",
        "!pip install googletrans\n",
        "!pip install tweet-preprocessor\n",
        "cls()"
      ]
    },
    {
      "cell_type": "code",
      "execution_count": null,
      "metadata": {
        "id": "IvP_hOo-GUtE"
      },
      "outputs": [],
      "source": [
        "import numpy as np\n",
        "import pandas as pd\n",
        "import matplotlib\n",
        "import matplotlib.pyplot as plt\n",
        "import seaborn as sns\n",
        "from tqdm.notebook import tqdm,trange\n",
        "import re\n",
        "import string\n",
        "import nltk"
      ]
    },
    {
      "cell_type": "code",
      "execution_count": null,
      "metadata": {
        "colab": {
          "base_uri": "https://localhost:8080/"
        },
        "id": "7H1BBfThSg9a",
        "outputId": "d531b3bc-bcec-4438-ae94-eb5f56305c2d"
      },
      "outputs": [
        {
          "name": "stdout",
          "output_type": "stream",
          "text": [
            "Mounted at /content/gdrive/\n"
          ]
        }
      ],
      "source": [
        "from  google.colab import drive\n",
        "\n",
        "drive.mount('/content/gdrive/')"
      ]
    },
    {
      "cell_type": "markdown",
      "metadata": {
        "id": "kNugVs0w8jOG"
      },
      "source": [
        "# Getting data"
      ]
    },
    {
      "cell_type": "code",
      "execution_count": null,
      "metadata": {
        "id": "Rm8v4P95THOB"
      },
      "outputs": [],
      "source": [
        "covid_tweets_path = '/content/gdrive/MyDrive/covid19_tweets.csv'\n",
        "english_tweet_path = \"/content/gdrive/MyDrive/English_tweets_covid.csv\""
      ]
    },
    {
      "cell_type": "code",
      "execution_count": null,
      "metadata": {
        "id": "NpTNQfE2F09S"
      },
      "outputs": [],
      "source": [
        "df = pd.read_csv(\"/content/gdrive/MyDrive/dataset/covid19_tweets_23.csv\",encoding = 'latin')\n",
        "df.drop(['is_retweet','source','user_verified','date'],inplace=True,axis=1)"
      ]
    },
    {
      "cell_type": "code",
      "execution_count": null,
      "metadata": {
        "id": "PxNDbxINGgb1"
      },
      "outputs": [],
      "source": [
        "import langdetect\n",
        "\n",
        "MODE = 'run'\n",
        "RANDOM_STATE = 0\n",
        "\n",
        "test_df = df.sample(frac=(0.1 if MODE=='test' else 1.0), random_state = RANDOM_STATE)\n",
        "test_df['lang'] = test_df['text'].map(lambda x : langdetect.detect(x))\n"
      ]
    },
    {
      "cell_type": "markdown",
      "metadata": {
        "id": "LvMMqL-m8q1j"
      },
      "source": [
        "# Translating to english"
      ]
    },
    {
      "cell_type": "code",
      "execution_count": null,
      "metadata": {
        "colab": {
          "base_uri": "https://localhost:8080/",
          "height": 49,
          "referenced_widgets": [
            "f78a184bcc5e4f6db0af8caac97f4985",
            "44a85cbaf0704498b6f81eaf690cc25a",
            "f89703ada0ae4234ab770e663feeb81b",
            "fc6cf96265d3479da98fc23ad89227aa",
            "08d1e9c2c2c6440bbdbf1fd2ab9023ee",
            "2bf5372de1cd4feb96fad15927bf33f5",
            "a8dd838ad85141999948ac50c46d48c7",
            "5ceeb6dc02c448c582a1e701759bbe15",
            "9cb8ecb2cffa4cc0875c7b96f0928269",
            "71e6d5fc7c274d5180a86c90072afe53",
            "bb2140fd18854573a1a48d419661c2bf"
          ]
        },
        "id": "yCAgOBd1JM3Q",
        "outputId": "9e6e28a7-4e87-4a56-d37f-3446e77ce36d"
      },
      "outputs": [
        {
          "data": {
            "application/vnd.jupyter.widget-view+json": {
              "model_id": "f78a184bcc5e4f6db0af8caac97f4985",
              "version_major": 2,
              "version_minor": 0
            },
            "text/plain": [
              "0it [00:00, ?it/s]"
            ]
          },
          "metadata": {},
          "output_type": "display_data"
        }
      ],
      "source": [
        "#Translating all tweets into English\n",
        "def translate_to_english(dataset):\n",
        "    from googletrans import Translator\n",
        "    to_lang = 'en'\n",
        "    translator = Translator()\n",
        "    for i,data in enumerate(tqdm(zip(dataset['lang'], dataset['text']))):\n",
        "        lang, text = data\n",
        "        if lang != 'en':\n",
        "            from_lang = lang\n",
        "            try :\n",
        "                text = translator.translate(text, src=from_lang, dest=to_lang).text\n",
        "                dataset['text'].iloc[i] = text\n",
        "            except Exception as err:\n",
        "                continue\n",
        "\n",
        "    return dataset\n",
        "\n",
        "test_df = translate_to_english(dataset=test_df)"
      ]
    },
    {
      "cell_type": "markdown",
      "metadata": {
        "id": "YTU-nZg7866R"
      },
      "source": [
        "# Cleaning tweets"
      ]
    },
    {
      "cell_type": "code",
      "execution_count": null,
      "metadata": {
        "colab": {
          "base_uri": "https://localhost:8080/"
        },
        "id": "gf5dGv3oK-at",
        "outputId": "1408760d-b5df-4740-a041-ce2df7837ecb"
      },
      "outputs": [
        {
          "name": "stderr",
          "output_type": "stream",
          "text": [
            "[nltk_data] Downloading package omw-1.4 to /root/nltk_data...\n",
            "[nltk_data]   Package omw-1.4 is already up-to-date!\n",
            "[nltk_data] Downloading package wordnet to /root/nltk_data...\n"
          ]
        }
      ],
      "source": [
        "import nltk\n",
        "nltk.download('omw-1.4')\n",
        "#nltk.download('stopwords')\n",
        "nltk.download('wordnet')\n",
        "\n",
        "from nltk.corpus import stopwords\n",
        "from nltk.stem import WordNetLemmatizer\n",
        "from wordcloud import STOPWORDS\n",
        "\n",
        "import functools\n",
        "\n",
        "# removing the unwanted lexical terms\n",
        "def preprocess_data(data, custom_stopwords=None):\n",
        "\n",
        "    #removal of url\n",
        "    text = re.sub(r'https?://\\S+|www\\.\\S+|http?://\\S+',' ',str(data)) \n",
        "    \n",
        "    #decontraction\n",
        "    text = re.sub(r\"won\\'t\", \" will not\", text)\n",
        "    text = re.sub(r\"won\\'t've\", \" will not have\", text)\n",
        "    text = re.sub(r\"can\\'t\", \" can not\", text)\n",
        "    text = re.sub(r\"don\\'t\", \" do not\", text)    \n",
        "    text = re.sub(r\"can\\'t've\", \" can not have\", text)\n",
        "    text = re.sub(r\"ma\\'am\", \" madam\", text)\n",
        "    text = re.sub(r\"let\\'s\", \" let us\", text)\n",
        "    text = re.sub(r\"ain\\'t\", \" am not\", text)\n",
        "    text = re.sub(r\"shan\\'t\", \" shall not\", text)\n",
        "    text = re.sub(r\"sha\\n't\", \" shall not\", text)\n",
        "    text = re.sub(r\"o\\'clock\", \" of the clock\", text)\n",
        "    text = re.sub(r\"y\\'all\", \" you all\", text)\n",
        "    text = re.sub(r\"n\\'t\", \" not\", text)\n",
        "    text = re.sub(r\"n\\'t've\", \" not have\", text)\n",
        "    text = re.sub(r\"\\'re\", \" are\", text)\n",
        "    text = re.sub(r\"\\'s\", \" is\", text)\n",
        "    text = re.sub(r\"\\'d\", \" would\", text)\n",
        "    text = re.sub(r\"\\'d've\", \" would have\", text)\n",
        "    text = re.sub(r\"\\'ll\", \" will\", text)\n",
        "    text = re.sub(r\"\\'ll've\", \" will have\", text)\n",
        "    text = re.sub(r\"\\'t\", \" not\", text)\n",
        "    text = re.sub(r\"\\'ve\", \" have\", text)\n",
        "    text = re.sub(r\"\\'m\", \" am\", text)\n",
        "    text = re.sub(r\"\\'re\", \" are\", text)\n",
        "    \n",
        "    #remove html tags\n",
        "    text = re.sub(r'<.*?>',' ',text) \n",
        "    \n",
        "    #Match all digits in the string and replace them by empty string\n",
        "    text = re.sub(r'[0-9]', '', text)\n",
        "    text = re.sub(\"[\"      u\"\\U0001F600-\\U0001F64F\"  # removal of emoticons\n",
        "                           u\"\\U0001F300-\\U0001F5FF\"  # symbols & pictographs\n",
        "                           u\"\\U0001F680-\\U0001F6FF\"  # transport & map symbols\n",
        "                           u\"\\U0001F1E0-\\U0001F1FF\" \n",
        "                           u\"\\U00002702-\\U000027B0\"\n",
        "                           u\"\\U000024C2-\\U0001F251\"\n",
        "                           \"]+\",' ',text)\n",
        "    \n",
        "    # filtering out miscellaneous text.\n",
        "    text = re.sub('[^a-zA-Z]',' ',text) \n",
        "    text = re.sub(r\"\\([^()]*\\)\", \"\", text)\n",
        "    \n",
        "    # remove mentions\n",
        "    text = re.sub('@\\S+', '', text)  \n",
        "    \n",
        "    # remove punctuations\n",
        "    text = re.sub('[%s]' % re.escape(\"\"\"!\"#$%&'()*+,-./:;<=>?@[\\]^_`{|}~\"\"\"), '', text)  \n",
        "    \n",
        "    # Lowering all the words in text\n",
        "    text = text.lower()\n",
        "    text = text.split()\n",
        "\n",
        "    # lemmatization\n",
        "    lemmatizer = WordNetLemmatizer()\n",
        "\n",
        "    for word in custom_stopwords:\n",
        "      STOPWORDS.add(word)\n",
        "    \n",
        "    text = [lemmatizer.lemmatize(words) for words in text if words not in STOPWORDS]\n",
        "    \n",
        "    # Removal of words with length<2\n",
        "    text = [i for i in text if len(i)>=2] \n",
        "    text = ' '.join(text)\n",
        "\n",
        "    return text\n",
        "\n",
        "\n",
        "# cleaning\n",
        "custom_stopwords = ['august','realdonaldtrump', 'india', 'trump', 'friday', 'africa', 'american', 'karnataka','covid','coronavirus','july', 'usa', 'uk', 'america', 'american']\n",
        "preprocess_data_custom = functools.partial(preprocess_data, custom_stopwords = custom_stopwords)\n",
        "\n",
        "test_df[\"cleaned\"] = test_df[\"text\"].apply(preprocess_data_custom)\n",
        "# test_df['cleaned']= test_df['cleaned'].apply(lambda x: x[:-4])\n",
        "\n",
        "# clean_corpus = test_df['cleaned'][:]"
      ]
    },
    {
      "cell_type": "code",
      "execution_count": null,
      "metadata": {
        "id": "JoQEIxYeA8nw"
      },
      "outputs": [],
      "source": [
        "test_df.to_csv(\"After_clean.csv\")"
      ]
    },
    {
      "cell_type": "code",
      "execution_count": null,
      "metadata": {
        "id": "UhjrMMofM8CS"
      },
      "outputs": [],
      "source": [
        "clean_corpus = test_df['cleaned'][:]"
      ]
    },
    {
      "cell_type": "code",
      "execution_count": null,
      "metadata": {
        "colab": {
          "base_uri": "https://localhost:8080/"
        },
        "id": "hB7ma7rWMlFS",
        "outputId": "3b337fc8-bb1a-4ccd-afd6-6af629d8bd46"
      },
      "outputs": [
        {
          "name": "stdout",
          "output_type": "stream",
          "text": [
            "Model saved\n"
          ]
        }
      ],
      "source": [
        "import pickle\n",
        "with open(\"/content/gdrive/MyDrive/project/clean_corpus.pkl\", 'wb') as f:\n",
        "  pickle.dump(clean_corpus, f)\n",
        "  print(f\"Model saved\")"
      ]
    },
    {
      "cell_type": "code",
      "execution_count": null,
      "metadata": {
        "id": "bxM1U2m1MvQR"
      },
      "outputs": [],
      "source": [
        "import pickle\n",
        "with open('/content/gdrive/MyDrive/project/clean_corpus.pkl', 'rb') as f:\n",
        "    clean_corpus = pickle.load(f)"
      ]
    },
    {
      "cell_type": "markdown",
      "metadata": {
        "id": "YdiV5RHZgfcL"
      },
      "source": [
        "# Bi-grams"
      ]
    },
    {
      "cell_type": "code",
      "execution_count": null,
      "metadata": {
        "id": "UIqaeNBIghqF"
      },
      "outputs": [],
      "source": [
        "def top_words(corpus, n=10):\n",
        "  vector = CountVectorizer(stop_words='english', ngram_range=(2,2)).fit(corpus)\n",
        "  bag_of_words = vector.transform(corpus)\n",
        "  sum_words = bag_of_words.sum(axis=0) \n",
        "  words_freq = [(word, sum_words[0, idx]) for word, idx in vector.vocabulary_.items()]\n",
        "  words_freq =sorted(words_freq, key = lambda x: x[1], reverse=True)\n",
        "  return words_freq[:n]\n",
        "\n",
        "def generate_ngrams(corpus,n=10):\n",
        "  words = []\n",
        "  word_values = []\n",
        "  for i,j in top_words(corpus,n):\n",
        "    words.append(i)\n",
        "    word_values.append(j)\n",
        "\n",
        "  for x in words:\n",
        "    print(x)\n",
        "\n",
        "  fig, ax = plt.subplots(figsize=(16, 8))\n",
        "  ax.bar(range(len(words)), word_values);\n",
        "  ax.set_xticks(range(len(words)));\n",
        "  ax.set_xticklabels(words, rotation='vertical');\n",
        "  ax.set_title(f'Top {n} words in the dataset');\n",
        "  ax.set_xlabel('Words');\n",
        "  ax.set_ylabel('Number of occurences');\n",
        "  plt.show()"
      ]
    }
  ],
  "metadata": {
    "colab": {
      "collapsed_sections": [
        "c1L0TOtJ8cov",
        "kNugVs0w8jOG",
        "LvMMqL-m8q1j",
        "YdiV5RHZgfcL"
      ],
      "provenance": []
    },
    "kernelspec": {
      "display_name": "Python 3",
      "name": "python3"
    },
    "language_info": {
      "name": "python"
    },
    "widgets": {
      "application/vnd.jupyter.widget-state+json": {
        "08d1e9c2c2c6440bbdbf1fd2ab9023ee": {
          "model_module": "@jupyter-widgets/base",
          "model_module_version": "1.2.0",
          "model_name": "LayoutModel",
          "state": {
            "_model_module": "@jupyter-widgets/base",
            "_model_module_version": "1.2.0",
            "_model_name": "LayoutModel",
            "_view_count": null,
            "_view_module": "@jupyter-widgets/base",
            "_view_module_version": "1.2.0",
            "_view_name": "LayoutView",
            "align_content": null,
            "align_items": null,
            "align_self": null,
            "border": null,
            "bottom": null,
            "display": null,
            "flex": null,
            "flex_flow": null,
            "grid_area": null,
            "grid_auto_columns": null,
            "grid_auto_flow": null,
            "grid_auto_rows": null,
            "grid_column": null,
            "grid_gap": null,
            "grid_row": null,
            "grid_template_areas": null,
            "grid_template_columns": null,
            "grid_template_rows": null,
            "height": null,
            "justify_content": null,
            "justify_items": null,
            "left": null,
            "margin": null,
            "max_height": null,
            "max_width": null,
            "min_height": null,
            "min_width": null,
            "object_fit": null,
            "object_position": null,
            "order": null,
            "overflow": null,
            "overflow_x": null,
            "overflow_y": null,
            "padding": null,
            "right": null,
            "top": null,
            "visibility": null,
            "width": null
          }
        },
        "2bf5372de1cd4feb96fad15927bf33f5": {
          "model_module": "@jupyter-widgets/base",
          "model_module_version": "1.2.0",
          "model_name": "LayoutModel",
          "state": {
            "_model_module": "@jupyter-widgets/base",
            "_model_module_version": "1.2.0",
            "_model_name": "LayoutModel",
            "_view_count": null,
            "_view_module": "@jupyter-widgets/base",
            "_view_module_version": "1.2.0",
            "_view_name": "LayoutView",
            "align_content": null,
            "align_items": null,
            "align_self": null,
            "border": null,
            "bottom": null,
            "display": null,
            "flex": null,
            "flex_flow": null,
            "grid_area": null,
            "grid_auto_columns": null,
            "grid_auto_flow": null,
            "grid_auto_rows": null,
            "grid_column": null,
            "grid_gap": null,
            "grid_row": null,
            "grid_template_areas": null,
            "grid_template_columns": null,
            "grid_template_rows": null,
            "height": null,
            "justify_content": null,
            "justify_items": null,
            "left": null,
            "margin": null,
            "max_height": null,
            "max_width": null,
            "min_height": null,
            "min_width": null,
            "object_fit": null,
            "object_position": null,
            "order": null,
            "overflow": null,
            "overflow_x": null,
            "overflow_y": null,
            "padding": null,
            "right": null,
            "top": null,
            "visibility": null,
            "width": null
          }
        },
        "44a85cbaf0704498b6f81eaf690cc25a": {
          "model_module": "@jupyter-widgets/controls",
          "model_module_version": "1.5.0",
          "model_name": "HTMLModel",
          "state": {
            "_dom_classes": [],
            "_model_module": "@jupyter-widgets/controls",
            "_model_module_version": "1.5.0",
            "_model_name": "HTMLModel",
            "_view_count": null,
            "_view_module": "@jupyter-widgets/controls",
            "_view_module_version": "1.5.0",
            "_view_name": "HTMLView",
            "description": "",
            "description_tooltip": null,
            "layout": "IPY_MODEL_2bf5372de1cd4feb96fad15927bf33f5",
            "placeholder": "​",
            "style": "IPY_MODEL_a8dd838ad85141999948ac50c46d48c7",
            "value": ""
          }
        },
        "5ceeb6dc02c448c582a1e701759bbe15": {
          "model_module": "@jupyter-widgets/base",
          "model_module_version": "1.2.0",
          "model_name": "LayoutModel",
          "state": {
            "_model_module": "@jupyter-widgets/base",
            "_model_module_version": "1.2.0",
            "_model_name": "LayoutModel",
            "_view_count": null,
            "_view_module": "@jupyter-widgets/base",
            "_view_module_version": "1.2.0",
            "_view_name": "LayoutView",
            "align_content": null,
            "align_items": null,
            "align_self": null,
            "border": null,
            "bottom": null,
            "display": null,
            "flex": null,
            "flex_flow": null,
            "grid_area": null,
            "grid_auto_columns": null,
            "grid_auto_flow": null,
            "grid_auto_rows": null,
            "grid_column": null,
            "grid_gap": null,
            "grid_row": null,
            "grid_template_areas": null,
            "grid_template_columns": null,
            "grid_template_rows": null,
            "height": null,
            "justify_content": null,
            "justify_items": null,
            "left": null,
            "margin": null,
            "max_height": null,
            "max_width": null,
            "min_height": null,
            "min_width": null,
            "object_fit": null,
            "object_position": null,
            "order": null,
            "overflow": null,
            "overflow_x": null,
            "overflow_y": null,
            "padding": null,
            "right": null,
            "top": null,
            "visibility": null,
            "width": "20px"
          }
        },
        "71e6d5fc7c274d5180a86c90072afe53": {
          "model_module": "@jupyter-widgets/base",
          "model_module_version": "1.2.0",
          "model_name": "LayoutModel",
          "state": {
            "_model_module": "@jupyter-widgets/base",
            "_model_module_version": "1.2.0",
            "_model_name": "LayoutModel",
            "_view_count": null,
            "_view_module": "@jupyter-widgets/base",
            "_view_module_version": "1.2.0",
            "_view_name": "LayoutView",
            "align_content": null,
            "align_items": null,
            "align_self": null,
            "border": null,
            "bottom": null,
            "display": null,
            "flex": null,
            "flex_flow": null,
            "grid_area": null,
            "grid_auto_columns": null,
            "grid_auto_flow": null,
            "grid_auto_rows": null,
            "grid_column": null,
            "grid_gap": null,
            "grid_row": null,
            "grid_template_areas": null,
            "grid_template_columns": null,
            "grid_template_rows": null,
            "height": null,
            "justify_content": null,
            "justify_items": null,
            "left": null,
            "margin": null,
            "max_height": null,
            "max_width": null,
            "min_height": null,
            "min_width": null,
            "object_fit": null,
            "object_position": null,
            "order": null,
            "overflow": null,
            "overflow_x": null,
            "overflow_y": null,
            "padding": null,
            "right": null,
            "top": null,
            "visibility": null,
            "width": null
          }
        },
        "9cb8ecb2cffa4cc0875c7b96f0928269": {
          "model_module": "@jupyter-widgets/controls",
          "model_module_version": "1.5.0",
          "model_name": "ProgressStyleModel",
          "state": {
            "_model_module": "@jupyter-widgets/controls",
            "_model_module_version": "1.5.0",
            "_model_name": "ProgressStyleModel",
            "_view_count": null,
            "_view_module": "@jupyter-widgets/base",
            "_view_module_version": "1.2.0",
            "_view_name": "StyleView",
            "bar_color": null,
            "description_width": ""
          }
        },
        "a8dd838ad85141999948ac50c46d48c7": {
          "model_module": "@jupyter-widgets/controls",
          "model_module_version": "1.5.0",
          "model_name": "DescriptionStyleModel",
          "state": {
            "_model_module": "@jupyter-widgets/controls",
            "_model_module_version": "1.5.0",
            "_model_name": "DescriptionStyleModel",
            "_view_count": null,
            "_view_module": "@jupyter-widgets/base",
            "_view_module_version": "1.2.0",
            "_view_name": "StyleView",
            "description_width": ""
          }
        },
        "bb2140fd18854573a1a48d419661c2bf": {
          "model_module": "@jupyter-widgets/controls",
          "model_module_version": "1.5.0",
          "model_name": "DescriptionStyleModel",
          "state": {
            "_model_module": "@jupyter-widgets/controls",
            "_model_module_version": "1.5.0",
            "_model_name": "DescriptionStyleModel",
            "_view_count": null,
            "_view_module": "@jupyter-widgets/base",
            "_view_module_version": "1.2.0",
            "_view_name": "StyleView",
            "description_width": ""
          }
        },
        "f78a184bcc5e4f6db0af8caac97f4985": {
          "model_module": "@jupyter-widgets/controls",
          "model_module_version": "1.5.0",
          "model_name": "HBoxModel",
          "state": {
            "_dom_classes": [],
            "_model_module": "@jupyter-widgets/controls",
            "_model_module_version": "1.5.0",
            "_model_name": "HBoxModel",
            "_view_count": null,
            "_view_module": "@jupyter-widgets/controls",
            "_view_module_version": "1.5.0",
            "_view_name": "HBoxView",
            "box_style": "",
            "children": [
              "IPY_MODEL_44a85cbaf0704498b6f81eaf690cc25a",
              "IPY_MODEL_f89703ada0ae4234ab770e663feeb81b",
              "IPY_MODEL_fc6cf96265d3479da98fc23ad89227aa"
            ],
            "layout": "IPY_MODEL_08d1e9c2c2c6440bbdbf1fd2ab9023ee"
          }
        },
        "f89703ada0ae4234ab770e663feeb81b": {
          "model_module": "@jupyter-widgets/controls",
          "model_module_version": "1.5.0",
          "model_name": "FloatProgressModel",
          "state": {
            "_dom_classes": [],
            "_model_module": "@jupyter-widgets/controls",
            "_model_module_version": "1.5.0",
            "_model_name": "FloatProgressModel",
            "_view_count": null,
            "_view_module": "@jupyter-widgets/controls",
            "_view_module_version": "1.5.0",
            "_view_name": "ProgressView",
            "bar_style": "success",
            "description": "",
            "description_tooltip": null,
            "layout": "IPY_MODEL_5ceeb6dc02c448c582a1e701759bbe15",
            "max": 1,
            "min": 0,
            "orientation": "horizontal",
            "style": "IPY_MODEL_9cb8ecb2cffa4cc0875c7b96f0928269",
            "value": 1
          }
        },
        "fc6cf96265d3479da98fc23ad89227aa": {
          "model_module": "@jupyter-widgets/controls",
          "model_module_version": "1.5.0",
          "model_name": "HTMLModel",
          "state": {
            "_dom_classes": [],
            "_model_module": "@jupyter-widgets/controls",
            "_model_module_version": "1.5.0",
            "_model_name": "HTMLModel",
            "_view_count": null,
            "_view_module": "@jupyter-widgets/controls",
            "_view_module_version": "1.5.0",
            "_view_name": "HTMLView",
            "description": "",
            "description_tooltip": null,
            "layout": "IPY_MODEL_71e6d5fc7c274d5180a86c90072afe53",
            "placeholder": "​",
            "style": "IPY_MODEL_bb2140fd18854573a1a48d419661c2bf",
            "value": " 23199/? [01:14&lt;00:00, 238.92it/s]"
          }
        }
      }
    }
  },
  "nbformat": 4,
  "nbformat_minor": 0
}
