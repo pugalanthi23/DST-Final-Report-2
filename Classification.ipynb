{
  "cells": [
    {
      "cell_type": "markdown",
      "metadata": {
        "id": "C5w3xumyoGZZ"
      },
      "source": [
        "# Importing necessaries and getting data"
      ]
    },
    {
      "cell_type": "code",
      "execution_count": null,
      "metadata": {
        "id": "pjwtowtSodax"
      },
      "outputs": [],
      "source": [
        "import numpy as np\n",
        "import pandas as pd\n",
        "\n",
        "from sklearn.feature_extraction.text import CountVectorizer\n",
        "from sklearn.feature_extraction.text import TfidfTransformer\n",
        "from sklearn.linear_model import LogisticRegression\n",
        "from sklearn.ensemble import RandomForestClassifier\n",
        "from sklearn.ensemble import GradientBoostingClassifier\n",
        "from sklearn.neighbors import KNeighborsClassifier\n",
        "from sklearn.linear_model import RidgeClassifier\n",
        "from sklearn.svm import SVC\n",
        "from sklearn.tree import DecisionTreeClassifier\n",
        "\n",
        "from sklearn.model_selection import train_test_split\n",
        "from sklearn.model_selection import StratifiedShuffleSplit\n",
        "import re\n",
        "from sklearn.metrics import roc_auc_score\n",
        "\n",
        "import seaborn as sns\n",
        "import matplotlib.pyplot as plt\n",
        "\n",
        "from warnings import filterwarnings\n",
        "from sklearn.model_selection import cross_validate\n",
        "\n",
        "from sklearn.pipeline import Pipeline"
      ]
    },
    {
      "cell_type": "code",
      "execution_count": null,
      "metadata": {
        "id": "gZSHDmWypYgp",
        "colab": {
          "base_uri": "https://localhost:8080/"
        },
        "outputId": "a4e9b3fa-272b-4502-dadb-25cd4341cadc"
      },
      "outputs": [
        {
          "output_type": "stream",
          "name": "stdout",
          "text": [
            "Mounted at /content/gdrive/\n"
          ]
        },
        {
          "output_type": "stream",
          "name": "stderr",
          "text": [
            "/usr/local/lib/python3.7/dist-packages/IPython/core/interactiveshell.py:2882: DtypeWarning: Columns (1) have mixed types.Specify dtype option on import or set low_memory=False.\n",
            "  exec(code_obj, self.user_global_ns, self.user_ns)\n"
          ]
        },
        {
          "output_type": "execute_result",
          "data": {
            "text/plain": [
              "   Unnamed: 0 Unnamed: 0.1                user_name       user_location  \\\n",
              "0           0       172534                     Leah       Missouri, USA   \n",
              "1           1         4968               News Ghana        Accra, Ghana   \n",
              "2           2        65920  Trinity Care Foundation    Bengaluru, India   \n",
              "3           3       142424         The Korea Herald       Seoul, Korea    \n",
              "4           4        60448          Maricopa County         Phoenix, AZ   \n",
              "5           5        57125       GlobalPandemic.NET           WORLDWIDE   \n",
              "6           6        61160     stiff middle finger   The seventh house    \n",
              "7           7       122228            Kedar Chounde                 NaN   \n",
              "8           8       126651                Nightstar         Oregon, USA   \n",
              "9           9       113152     Gerard Anthony Naval         Philippines   \n",
              "\n",
              "                                    user_description      user_created  \\\n",
              "0  Hilarious fatty. Loves her husband and fried c...   17/08/2019 4:26   \n",
              "1  GhanaÃÂ¢ÃÂÃÂs leading online news publica...  03/06/2011 20:41   \n",
              "2  Non-Profit Organization : Focusing on Health a...  17/10/2013 15:19   \n",
              "3  ÃÂ¬ÃÂ½ÃÂÃÂ«ÃÂ¦ÃÂ¬ÃÂ¬ÃÂÃÂÃÂ­ÃÂÃ...   13/07/2009 1:58   \n",
              "4  The 4th most populous County in the US. About ...  03/03/2010 21:11   \n",
              "5  Breaking News & Critical Information to SURVIV...  13/07/2010 21:58   \n",
              "6  The #counterculture, #Aquarius & #loveandpeace...  28/04/2015 18:36   \n",
              "7  BeatboxerÃÂ°ÃÂÃÂÃÂ¤ \\nMedicoÃÂ°ÃÂÃÂ...  08/04/2020 15:14   \n",
              "8  I ask questions. I try to remind people of the...   02/08/2020 4:58   \n",
              "9  I always turn to the sports pages first, which...   25/02/2012 0:28   \n",
              "\n",
              "   user_followers  user_friends  user_favourites  \\\n",
              "0             4.0          70.0            688.0   \n",
              "1         30390.0        4067.0            598.0   \n",
              "2           733.0         591.0           7076.0   \n",
              "3         65722.0          25.0             32.0   \n",
              "4          8952.0         332.0           1097.0   \n",
              "5         26117.0       25282.0              2.0   \n",
              "6          7551.0         666.0          43324.0   \n",
              "7            11.0          24.0             29.0   \n",
              "8             3.0           9.0             47.0   \n",
              "9           514.0         219.0             12.0   \n",
              "\n",
              "                                                text  \\\n",
              "0  We really need to get this pandemic shit under...   \n",
              "1  #EmergingMarkets #CAFS #Covid19 COVID-19 threa...   \n",
              "2  Fight Against #COVID19 Project by @tcfindia at...   \n",
              "3  Culture sector scrambles as COVID-19 cases soa...   \n",
              "4  #Covid19 spreads mainly from person to person ...   \n",
              "5  ALERT: ÃÂ¢ÃÂÃÂCorona, false alarmÃÂ¢ÃÂ...   \n",
              "6  Boris Johnson and Dominic Cummings #CareHomeic...   \n",
              "7  *When you accidentally turn on the Video durin...   \n",
              "8  Wait the government works for the people yet w...   \n",
              "9  The DOH said the number of #COVID19 fatalities...   \n",
              "\n",
              "                                            hashtags lang  \\\n",
              "0                                                NaN   en   \n",
              "1             ['EmergingMarkets', 'CAFS', 'Covid19']   en   \n",
              "2                 ['COVID19', 'Karnataka', 'flickr']   en   \n",
              "3   ['SouthKorea', 'culture', 'COVID19', 'pandemic']   en   \n",
              "4                                        ['Covid19']   en   \n",
              "5                                                NaN   en   \n",
              "6  ['CareHomeicide', 'SecondPeak', 'Secondwave', ...   en   \n",
              "7                                                NaN   en   \n",
              "8                                                NaN   en   \n",
              "9                                        ['COVID19']   en   \n",
              "\n",
              "                                             cleaned  emergency  \n",
              "0  really need pandemic shit control many future ...          0  \n",
              "1  emergingmarkets cafs threatens survival south ...          0  \n",
              "2  fight project tcfindia chikkaballapur hospital...          0  \n",
              "3  culture sector scramble case soar southkorea c...          0  \n",
              "4  spread mainly person person infected person co...          0  \n",
              "5  alert corona false alarm thousand take street ...          0  \n",
              "6  boris johnson dominic cummings carehomeicide s...          0  \n",
              "7  accidentally turn video online class frontbenc...          0  \n",
              "8  wait government work people yet yall taking va...          0  \n",
              "9  doh said number fatality rose new death report...          1  "
            ],
            "text/html": [
              "\n",
              "  <div id=\"df-9582d7cc-9f6c-4ba1-ae70-48be042fc0d1\">\n",
              "    <div class=\"colab-df-container\">\n",
              "      <div>\n",
              "<style scoped>\n",
              "    .dataframe tbody tr th:only-of-type {\n",
              "        vertical-align: middle;\n",
              "    }\n",
              "\n",
              "    .dataframe tbody tr th {\n",
              "        vertical-align: top;\n",
              "    }\n",
              "\n",
              "    .dataframe thead th {\n",
              "        text-align: right;\n",
              "    }\n",
              "</style>\n",
              "<table border=\"1\" class=\"dataframe\">\n",
              "  <thead>\n",
              "    <tr style=\"text-align: right;\">\n",
              "      <th></th>\n",
              "      <th>Unnamed: 0</th>\n",
              "      <th>Unnamed: 0.1</th>\n",
              "      <th>user_name</th>\n",
              "      <th>user_location</th>\n",
              "      <th>user_description</th>\n",
              "      <th>user_created</th>\n",
              "      <th>user_followers</th>\n",
              "      <th>user_friends</th>\n",
              "      <th>user_favourites</th>\n",
              "      <th>text</th>\n",
              "      <th>hashtags</th>\n",
              "      <th>lang</th>\n",
              "      <th>cleaned</th>\n",
              "      <th>emergency</th>\n",
              "    </tr>\n",
              "  </thead>\n",
              "  <tbody>\n",
              "    <tr>\n",
              "      <th>0</th>\n",
              "      <td>0</td>\n",
              "      <td>172534</td>\n",
              "      <td>Leah</td>\n",
              "      <td>Missouri, USA</td>\n",
              "      <td>Hilarious fatty. Loves her husband and fried c...</td>\n",
              "      <td>17/08/2019 4:26</td>\n",
              "      <td>4.0</td>\n",
              "      <td>70.0</td>\n",
              "      <td>688.0</td>\n",
              "      <td>We really need to get this pandemic shit under...</td>\n",
              "      <td>NaN</td>\n",
              "      <td>en</td>\n",
              "      <td>really need pandemic shit control many future ...</td>\n",
              "      <td>0</td>\n",
              "    </tr>\n",
              "    <tr>\n",
              "      <th>1</th>\n",
              "      <td>1</td>\n",
              "      <td>4968</td>\n",
              "      <td>News Ghana</td>\n",
              "      <td>Accra, Ghana</td>\n",
              "      <td>GhanaÃÂ¢ÃÂÃÂs leading online news publica...</td>\n",
              "      <td>03/06/2011 20:41</td>\n",
              "      <td>30390.0</td>\n",
              "      <td>4067.0</td>\n",
              "      <td>598.0</td>\n",
              "      <td>#EmergingMarkets #CAFS #Covid19 COVID-19 threa...</td>\n",
              "      <td>['EmergingMarkets', 'CAFS', 'Covid19']</td>\n",
              "      <td>en</td>\n",
              "      <td>emergingmarkets cafs threatens survival south ...</td>\n",
              "      <td>0</td>\n",
              "    </tr>\n",
              "    <tr>\n",
              "      <th>2</th>\n",
              "      <td>2</td>\n",
              "      <td>65920</td>\n",
              "      <td>Trinity Care Foundation</td>\n",
              "      <td>Bengaluru, India</td>\n",
              "      <td>Non-Profit Organization : Focusing on Health a...</td>\n",
              "      <td>17/10/2013 15:19</td>\n",
              "      <td>733.0</td>\n",
              "      <td>591.0</td>\n",
              "      <td>7076.0</td>\n",
              "      <td>Fight Against #COVID19 Project by @tcfindia at...</td>\n",
              "      <td>['COVID19', 'Karnataka', 'flickr']</td>\n",
              "      <td>en</td>\n",
              "      <td>fight project tcfindia chikkaballapur hospital...</td>\n",
              "      <td>0</td>\n",
              "    </tr>\n",
              "    <tr>\n",
              "      <th>3</th>\n",
              "      <td>3</td>\n",
              "      <td>142424</td>\n",
              "      <td>The Korea Herald</td>\n",
              "      <td>Seoul, Korea</td>\n",
              "      <td>ÃÂ¬ÃÂ½ÃÂÃÂ«ÃÂ¦ÃÂ¬ÃÂ¬ÃÂÃÂÃÂ­ÃÂÃ...</td>\n",
              "      <td>13/07/2009 1:58</td>\n",
              "      <td>65722.0</td>\n",
              "      <td>25.0</td>\n",
              "      <td>32.0</td>\n",
              "      <td>Culture sector scrambles as COVID-19 cases soa...</td>\n",
              "      <td>['SouthKorea', 'culture', 'COVID19', 'pandemic']</td>\n",
              "      <td>en</td>\n",
              "      <td>culture sector scramble case soar southkorea c...</td>\n",
              "      <td>0</td>\n",
              "    </tr>\n",
              "    <tr>\n",
              "      <th>4</th>\n",
              "      <td>4</td>\n",
              "      <td>60448</td>\n",
              "      <td>Maricopa County</td>\n",
              "      <td>Phoenix, AZ</td>\n",
              "      <td>The 4th most populous County in the US. About ...</td>\n",
              "      <td>03/03/2010 21:11</td>\n",
              "      <td>8952.0</td>\n",
              "      <td>332.0</td>\n",
              "      <td>1097.0</td>\n",
              "      <td>#Covid19 spreads mainly from person to person ...</td>\n",
              "      <td>['Covid19']</td>\n",
              "      <td>en</td>\n",
              "      <td>spread mainly person person infected person co...</td>\n",
              "      <td>0</td>\n",
              "    </tr>\n",
              "    <tr>\n",
              "      <th>5</th>\n",
              "      <td>5</td>\n",
              "      <td>57125</td>\n",
              "      <td>GlobalPandemic.NET</td>\n",
              "      <td>WORLDWIDE</td>\n",
              "      <td>Breaking News &amp; Critical Information to SURVIV...</td>\n",
              "      <td>13/07/2010 21:58</td>\n",
              "      <td>26117.0</td>\n",
              "      <td>25282.0</td>\n",
              "      <td>2.0</td>\n",
              "      <td>ALERT: ÃÂ¢ÃÂÃÂCorona, false alarmÃÂ¢ÃÂ...</td>\n",
              "      <td>NaN</td>\n",
              "      <td>en</td>\n",
              "      <td>alert corona false alarm thousand take street ...</td>\n",
              "      <td>0</td>\n",
              "    </tr>\n",
              "    <tr>\n",
              "      <th>6</th>\n",
              "      <td>6</td>\n",
              "      <td>61160</td>\n",
              "      <td>stiff middle finger</td>\n",
              "      <td>The seventh house</td>\n",
              "      <td>The #counterculture, #Aquarius &amp; #loveandpeace...</td>\n",
              "      <td>28/04/2015 18:36</td>\n",
              "      <td>7551.0</td>\n",
              "      <td>666.0</td>\n",
              "      <td>43324.0</td>\n",
              "      <td>Boris Johnson and Dominic Cummings #CareHomeic...</td>\n",
              "      <td>['CareHomeicide', 'SecondPeak', 'Secondwave', ...</td>\n",
              "      <td>en</td>\n",
              "      <td>boris johnson dominic cummings carehomeicide s...</td>\n",
              "      <td>0</td>\n",
              "    </tr>\n",
              "    <tr>\n",
              "      <th>7</th>\n",
              "      <td>7</td>\n",
              "      <td>122228</td>\n",
              "      <td>Kedar Chounde</td>\n",
              "      <td>NaN</td>\n",
              "      <td>BeatboxerÃÂ°ÃÂÃÂÃÂ¤ \\nMedicoÃÂ°ÃÂÃÂ...</td>\n",
              "      <td>08/04/2020 15:14</td>\n",
              "      <td>11.0</td>\n",
              "      <td>24.0</td>\n",
              "      <td>29.0</td>\n",
              "      <td>*When you accidentally turn on the Video durin...</td>\n",
              "      <td>NaN</td>\n",
              "      <td>en</td>\n",
              "      <td>accidentally turn video online class frontbenc...</td>\n",
              "      <td>0</td>\n",
              "    </tr>\n",
              "    <tr>\n",
              "      <th>8</th>\n",
              "      <td>8</td>\n",
              "      <td>126651</td>\n",
              "      <td>Nightstar</td>\n",
              "      <td>Oregon, USA</td>\n",
              "      <td>I ask questions. I try to remind people of the...</td>\n",
              "      <td>02/08/2020 4:58</td>\n",
              "      <td>3.0</td>\n",
              "      <td>9.0</td>\n",
              "      <td>47.0</td>\n",
              "      <td>Wait the government works for the people yet w...</td>\n",
              "      <td>NaN</td>\n",
              "      <td>en</td>\n",
              "      <td>wait government work people yet yall taking va...</td>\n",
              "      <td>0</td>\n",
              "    </tr>\n",
              "    <tr>\n",
              "      <th>9</th>\n",
              "      <td>9</td>\n",
              "      <td>113152</td>\n",
              "      <td>Gerard Anthony Naval</td>\n",
              "      <td>Philippines</td>\n",
              "      <td>I always turn to the sports pages first, which...</td>\n",
              "      <td>25/02/2012 0:28</td>\n",
              "      <td>514.0</td>\n",
              "      <td>219.0</td>\n",
              "      <td>12.0</td>\n",
              "      <td>The DOH said the number of #COVID19 fatalities...</td>\n",
              "      <td>['COVID19']</td>\n",
              "      <td>en</td>\n",
              "      <td>doh said number fatality rose new death report...</td>\n",
              "      <td>1</td>\n",
              "    </tr>\n",
              "  </tbody>\n",
              "</table>\n",
              "</div>\n",
              "      <button class=\"colab-df-convert\" onclick=\"convertToInteractive('df-9582d7cc-9f6c-4ba1-ae70-48be042fc0d1')\"\n",
              "              title=\"Convert this dataframe to an interactive table.\"\n",
              "              style=\"display:none;\">\n",
              "        \n",
              "  <svg xmlns=\"http://www.w3.org/2000/svg\" height=\"24px\"viewBox=\"0 0 24 24\"\n",
              "       width=\"24px\">\n",
              "    <path d=\"M0 0h24v24H0V0z\" fill=\"none\"/>\n",
              "    <path d=\"M18.56 5.44l.94 2.06.94-2.06 2.06-.94-2.06-.94-.94-2.06-.94 2.06-2.06.94zm-11 1L8.5 8.5l.94-2.06 2.06-.94-2.06-.94L8.5 2.5l-.94 2.06-2.06.94zm10 10l.94 2.06.94-2.06 2.06-.94-2.06-.94-.94-2.06-.94 2.06-2.06.94z\"/><path d=\"M17.41 7.96l-1.37-1.37c-.4-.4-.92-.59-1.43-.59-.52 0-1.04.2-1.43.59L10.3 9.45l-7.72 7.72c-.78.78-.78 2.05 0 2.83L4 21.41c.39.39.9.59 1.41.59.51 0 1.02-.2 1.41-.59l7.78-7.78 2.81-2.81c.8-.78.8-2.07 0-2.86zM5.41 20L4 18.59l7.72-7.72 1.47 1.35L5.41 20z\"/>\n",
              "  </svg>\n",
              "      </button>\n",
              "      \n",
              "  <style>\n",
              "    .colab-df-container {\n",
              "      display:flex;\n",
              "      flex-wrap:wrap;\n",
              "      gap: 12px;\n",
              "    }\n",
              "\n",
              "    .colab-df-convert {\n",
              "      background-color: #E8F0FE;\n",
              "      border: none;\n",
              "      border-radius: 50%;\n",
              "      cursor: pointer;\n",
              "      display: none;\n",
              "      fill: #1967D2;\n",
              "      height: 32px;\n",
              "      padding: 0 0 0 0;\n",
              "      width: 32px;\n",
              "    }\n",
              "\n",
              "    .colab-df-convert:hover {\n",
              "      background-color: #E2EBFA;\n",
              "      box-shadow: 0px 1px 2px rgba(60, 64, 67, 0.3), 0px 1px 3px 1px rgba(60, 64, 67, 0.15);\n",
              "      fill: #174EA6;\n",
              "    }\n",
              "\n",
              "    [theme=dark] .colab-df-convert {\n",
              "      background-color: #3B4455;\n",
              "      fill: #D2E3FC;\n",
              "    }\n",
              "\n",
              "    [theme=dark] .colab-df-convert:hover {\n",
              "      background-color: #434B5C;\n",
              "      box-shadow: 0px 1px 3px 1px rgba(0, 0, 0, 0.15);\n",
              "      filter: drop-shadow(0px 1px 2px rgba(0, 0, 0, 0.3));\n",
              "      fill: #FFFFFF;\n",
              "    }\n",
              "  </style>\n",
              "\n",
              "      <script>\n",
              "        const buttonEl =\n",
              "          document.querySelector('#df-9582d7cc-9f6c-4ba1-ae70-48be042fc0d1 button.colab-df-convert');\n",
              "        buttonEl.style.display =\n",
              "          google.colab.kernel.accessAllowed ? 'block' : 'none';\n",
              "\n",
              "        async function convertToInteractive(key) {\n",
              "          const element = document.querySelector('#df-9582d7cc-9f6c-4ba1-ae70-48be042fc0d1');\n",
              "          const dataTable =\n",
              "            await google.colab.kernel.invokeFunction('convertToInteractive',\n",
              "                                                     [key], {});\n",
              "          if (!dataTable) return;\n",
              "\n",
              "          const docLinkHtml = 'Like what you see? Visit the ' +\n",
              "            '<a target=\"_blank\" href=https://colab.research.google.com/notebooks/data_table.ipynb>data table notebook</a>'\n",
              "            + ' to learn more about interactive tables.';\n",
              "          element.innerHTML = '';\n",
              "          dataTable['output_type'] = 'display_data';\n",
              "          await google.colab.output.renderOutput(dataTable, element);\n",
              "          const docLink = document.createElement('div');\n",
              "          docLink.innerHTML = docLinkHtml;\n",
              "          element.appendChild(docLink);\n",
              "        }\n",
              "      </script>\n",
              "    </div>\n",
              "  </div>\n",
              "  "
            ]
          },
          "metadata": {},
          "execution_count": 3
        }
      ],
      "source": [
        "from  google.colab import drive\n",
        "\n",
        "drive.mount('/content/gdrive/')\n",
        "\n",
        "emergency_tweets_path = '/content/gdrive/MyDrive/emergency_tweet_23.csv'\n",
        "\n",
        "df = pd.read_csv(emergency_tweets_path, encoding = 'latin')\n",
        "df.head(10)"
      ]
    },
    {
      "cell_type": "markdown",
      "metadata": {
        "id": "7h_A5bMjoaTl"
      },
      "source": [
        "# Cleaning and visualizing data"
      ]
    },
    {
      "cell_type": "code",
      "execution_count": null,
      "metadata": {
        "id": "QrRFrDZhq2If",
        "colab": {
          "base_uri": "https://localhost:8080/"
        },
        "outputId": "d0d6984e-2bcc-40c6-e7b2-b166991a9c2f"
      },
      "outputs": [
        {
          "output_type": "execute_result",
          "data": {
            "text/plain": [
              "0    really need pandemic shit control many future ...\n",
              "1    emergingmarkets cafs threatens survival south ...\n",
              "2    fight project tcfindia chikkaballapur hospital...\n",
              "3    culture sector scramble case soar southkorea c...\n",
              "4    spread mainly person person infected person co...\n",
              "5    alert corona false alarm thousand take street ...\n",
              "6    boris johnson dominic cummings carehomeicide s...\n",
              "7    accidentally turn video online class frontbenc...\n",
              "8    wait government work people yet yall taking va...\n",
              "9    doh said number fatality rose new death report...\n",
              "Name: cleaned, dtype: object"
            ]
          },
          "metadata": {},
          "execution_count": 4
        }
      ],
      "source": [
        "df.cleaned.head(10)"
      ]
    },
    {
      "cell_type": "code",
      "execution_count": null,
      "metadata": {
        "id": "3yk14Tghq4cY"
      },
      "outputs": [],
      "source": [
        "df = df[['cleaned', 'emergency']]"
      ]
    },
    {
      "cell_type": "code",
      "execution_count": null,
      "metadata": {
        "id": "sFf0qEjeq9Wa",
        "colab": {
          "base_uri": "https://localhost:8080/"
        },
        "outputId": "9107d9cb-334c-4741-f76d-0706f35a753d"
      },
      "outputs": [
        {
          "output_type": "execute_result",
          "data": {
            "text/plain": [
              "17313"
            ]
          },
          "metadata": {},
          "execution_count": 6
        }
      ],
      "source": [
        "np.sum(df.duplicated())"
      ]
    },
    {
      "cell_type": "code",
      "execution_count": null,
      "metadata": {
        "id": "X1T4wahWrEKD"
      },
      "outputs": [],
      "source": [
        "df = df.drop_duplicates()"
      ]
    },
    {
      "cell_type": "code",
      "execution_count": null,
      "metadata": {
        "id": "RfuPF66urKA0",
        "colab": {
          "base_uri": "https://localhost:8080/"
        },
        "outputId": "45c4adef-c624-4944-a30c-ad58b3eee958"
      },
      "outputs": [
        {
          "output_type": "execute_result",
          "data": {
            "text/plain": [
              "0    146961\n",
              "1     14839\n",
              "Name: emergency, dtype: int64"
            ]
          },
          "metadata": {},
          "execution_count": 8
        }
      ],
      "source": [
        "df.emergency.value_counts()"
      ]
    },
    {
      "cell_type": "markdown",
      "metadata": {
        "id": "aSI54C6woz1J"
      },
      "source": [
        "# Splitting training and testing data"
      ]
    },
    {
      "cell_type": "code",
      "execution_count": null,
      "metadata": {
        "colab": {
          "base_uri": "https://localhost:8080/"
        },
        "id": "t-AtJ3N6rW4Z",
        "outputId": "94af92fb-21b5-4aca-f20a-d4926a52366a"
      },
      "outputs": [
        {
          "output_type": "stream",
          "name": "stdout",
          "text": [
            "Training indices: [ 14102  82592  12432 ... 158205 106528  78189] Testing indices: [ 46384  59083  10272 ...  21182  63206 104660]\n",
            "129440\n",
            "32360\n",
            "129440\n",
            "32360\n"
          ]
        }
      ],
      "source": [
        "sss = StratifiedShuffleSplit(n_splits=1, test_size=0.2, random_state=42)\n",
        "\n",
        "df['cleaned'] = df['cleaned'].values.astype('U')\n",
        "\n",
        "X = df['cleaned'].to_numpy()\n",
        "y = df['emergency'].to_numpy()\n",
        "for train_index, test_index in sss.split(X, y):\n",
        "    print(\"Training indices:\", train_index, \"Testing indices:\", test_index)\n",
        "    X_train, X_test = X[train_index], X[test_index]\n",
        "\n",
        "    y_train, y_test = y[train_index], y[test_index]\n",
        "\n",
        "print(len(X_train))\n",
        "print(len(X_test))\n",
        "print(len(y_train))\n",
        "print(len(y_test))"
      ]
    },
    {
      "cell_type": "code",
      "execution_count": null,
      "metadata": {
        "id": "Q4SCM22zrbU7"
      },
      "outputs": [],
      "source": [
        "tweets_pipeline = Pipeline([('CVec', CountVectorizer(stop_words='english')),\n",
        "                     ('Tfidf', TfidfTransformer())])\n",
        "\n",
        "X_train_transformed = tweets_pipeline.fit_transform(X_train)\n",
        "X_test_transformed = tweets_pipeline.transform(X_test)"
      ]
    },
    {
      "cell_type": "code",
      "execution_count": null,
      "metadata": {
        "id": "m1hxGeGmDRgH"
      },
      "outputs": [],
      "source": [
        "classifiers = {\n",
        "    \"Logistic Regression\": LogisticRegression(class_weight='balanced'),\n",
        "    \"Decision Tree\": DecisionTreeClassifier(class_weight='balanced'),\n",
        "    \"k-Nearest Neighbors\": KNeighborsClassifier(),\n",
        "    \"Linear SVM\": SVC(class_weight='balanced'), \n",
        "    \"Gradient Boosting\": GradientBoostingClassifier(),\n",
        "    \"Random Forest\": RandomForestClassifier(),\n",
        "    'Ridge Classifier': RidgeClassifier(class_weight='balanced')\n",
        "}"
      ]
    },
    {
      "cell_type": "code",
      "source": [],
      "metadata": {
        "id": "ursj5pbVzBPk"
      },
      "execution_count": null,
      "outputs": []
    },
    {
      "cell_type": "markdown",
      "metadata": {
        "id": "IPjTTyQdpFoJ"
      },
      "source": [
        "\n",
        "\n",
        "# Calculating and plotting roc curve and performance metrics"
      ]
    },
    {
      "cell_type": "code",
      "execution_count": null,
      "metadata": {
        "id": "Jc3mPw6XiRdo"
      },
      "outputs": [],
      "source": [
        "\n",
        "def plot_roc(plt, y_test, y_predicted, color, name):\n",
        "      fpr, tpr, threshold = metrics.roc_curve(y_test, y_predicted)\n",
        "      roc_auc = metrics.auc(fpr, tpr)\n",
        "      plt.plot(fpr, tpr, color, label = name + 'AUC = %0.2f' % roc_auc)\n",
        "      plt.legend(loc = 'lower right')\n",
        "      plt.plot([0, 1], [0, 1],'w--')\n",
        "      plt.xlim([0, 1])\n",
        "      plt.ylim([0, 1])\n",
        "      return plt"
      ]
    },
    {
      "cell_type": "code",
      "execution_count": null,
      "metadata": {
        "id": "giFWRFG3iSNX"
      },
      "outputs": [],
      "source": [
        "def plot_compmet(classifier, y_test, y_pred):\n",
        "      print(\"\\nClassifier: \", classifier)\n",
        "      acc = metrics.accuracy_score(y_test, y_pred)\n",
        "      f1 = metrics.f1_score(y_test, y_pred, average='macro', zero_division= 0 )\n",
        "      ps = metrics.precision_score(y_test, y_pred, average='macro', zero_division= 0 )\n",
        "      rs = metrics.recall_score(y_test, y_pred, average='macro', zero_division= 0)\n",
        "      print(\"\\t\\t\\t\\tAccuracy\\tF1-score       \\tPrecision_score     Recall_score\")\n",
        "      print(\"Algorithm -\",classifier, acc, f1, ps, rs)\n",
        "      print(\"\\n\")"
      ]
    },
    {
      "cell_type": "code",
      "execution_count": null,
      "metadata": {
        "id": "orEvJVPUrkYC"
      },
      "outputs": [],
      "source": [
        "no_classifiers = len(classifiers.keys())\n",
        "\n",
        "from time import process_time \n",
        "import sklearn.metrics as metrics\n",
        "\n",
        "\n",
        "def batch_classify(X_train_transformed, y_train, X_test_transformed, y_test, verbose = True):\n",
        "    df_results = pd.DataFrame(data=np.zeros(shape=(no_classifiers,3)), columns = ['Classifier', 'Area Under Curve', 'Training time'])\n",
        "    count = 0\n",
        "    import matplotlib.pyplot as plt\n",
        "    plt.title('Receiver Operating Characteristic Curve')\n",
        "    plt.ylabel('True Positive Rate')\n",
        "    plt.xlabel('False Positive Rate')\n",
        "    #plt.figure(figsize=(15, 15))\n",
        "    colors = ['b', 'g', 'r', 'c', 'm', 'y', 'k']\n",
        "    i = 0\n",
        "    for key, classifier in classifiers.items():\n",
        "        t_start = process_time()  \n",
        "        #classifier.fit(X_train_transformed, y_train)\n",
        "        t_stop = process_time() \n",
        "        t_elapsed = t_stop - t_start\n",
        "        classifier_model = predict_tweet(key)\n",
        "        y_predicted = classifier_model.predict(X_test_transformed)\n",
        "        df_results.loc[count,'Classifier'] = key\n",
        "        df_results.loc[count,'Area Under Curve'] = roc_auc_score(y_test, y_predicted)\n",
        "        plot_compmet(key, y_test, y_predicted)\n",
        "        plt = plot_roc(plt, y_test, y_predicted, colors[i], key)\n",
        "        i+=1\n",
        "        df_results.loc[count,'Training time'] = t_elapsed\n",
        "        if verbose:\n",
        "            print(\"\\nTime taken to train {c}: {f:.2f} s\".format(c=key, f=t_elapsed))\n",
        "        count+=1\n",
        "    #plt.show()\n",
        "    plt.savefig(\"final_plot.png\")\n",
        "    return df_results"
      ]
    },
    {
      "cell_type": "code",
      "source": [
        "import pickle\n",
        "def predict_tweet(model):\n",
        "  with open(f\"/content/gdrive/MyDrive/project/{model}.pkl\", 'rb') as file:\n",
        "    classifier = pickle.load(file)\n",
        "  return classifier"
      ],
      "metadata": {
        "id": "pd2fFURcuRr-"
      },
      "execution_count": null,
      "outputs": []
    },
    {
      "cell_type": "code",
      "execution_count": null,
      "metadata": {
        "colab": {
          "base_uri": "https://localhost:8080/",
          "height": 1000
        },
        "id": "CVTWryDBrnht",
        "outputId": "fd91f2e9-4119-4353-b5a1-b8b281fdafc8"
      },
      "outputs": [
        {
          "output_type": "stream",
          "name": "stdout",
          "text": [
            "\n",
            "Classifier:  Logistic Regression\n",
            "\t\t\t\tAccuracy\tF1-score       \tPrecision_score     Recall_score\n",
            "Algorithm - Logistic Regression 0.9589616810877627 0.8940907729748389 0.8488039696739154 0.959991818005743\n",
            "\n",
            "\n",
            "\n",
            "Time taken to train Logistic Regression: 0.00 s\n",
            "\n",
            "Classifier:  Decision Tree\n",
            "\t\t\t\tAccuracy\tF1-score       \tPrecision_score     Recall_score\n",
            "Algorithm - Decision Tree 0.9827564894932015 0.9497828994944151 0.9370141021027252 0.9635491330497545\n",
            "\n",
            "\n",
            "\n",
            "Time taken to train Decision Tree: 0.00 s\n",
            "\n",
            "Classifier:  k-Nearest Neighbors\n",
            "\t\t\t\tAccuracy\tF1-score       \tPrecision_score     Recall_score\n",
            "Algorithm - k-Nearest Neighbors 0.93831891223733 0.7416489662344407 0.929349719511138 0.6778316834842933\n",
            "\n",
            "\n",
            "\n",
            "Time taken to train k-Nearest Neighbors: 0.00 s\n",
            "\n",
            "Classifier:  Linear SVM\n",
            "\t\t\t\tAccuracy\tF1-score       \tPrecision_score     Recall_score\n",
            "Algorithm - Linear SVM 0.9790482076637824 0.9391078250944209 0.9258465431765353 0.953480795698483\n",
            "\n",
            "\n",
            "\n",
            "Time taken to train Linear SVM: 0.00 s\n"
          ]
        },
        {
          "output_type": "error",
          "ename": "FileNotFoundError",
          "evalue": "ignored",
          "traceback": [
            "\u001b[0;31m---------------------------------------------------------------------------\u001b[0m",
            "\u001b[0;31mFileNotFoundError\u001b[0m                         Traceback (most recent call last)",
            "\u001b[0;32m<ipython-input-16-685c4fbe81b3>\u001b[0m in \u001b[0;36m<module>\u001b[0;34m()\u001b[0m\n\u001b[0;32m----> 1\u001b[0;31m \u001b[0mdf_results\u001b[0m \u001b[0;34m=\u001b[0m \u001b[0mbatch_classify\u001b[0m\u001b[0;34m(\u001b[0m\u001b[0mX_train_transformed\u001b[0m\u001b[0;34m,\u001b[0m \u001b[0my_train\u001b[0m\u001b[0;34m,\u001b[0m \u001b[0mX_test_transformed\u001b[0m\u001b[0;34m,\u001b[0m \u001b[0my_test\u001b[0m\u001b[0;34m)\u001b[0m\u001b[0;34m\u001b[0m\u001b[0;34m\u001b[0m\u001b[0m\n\u001b[0m\u001b[1;32m      2\u001b[0m \u001b[0mprint\u001b[0m\u001b[0;34m(\u001b[0m\u001b[0mdf_results\u001b[0m\u001b[0;34m.\u001b[0m\u001b[0msort_values\u001b[0m\u001b[0;34m(\u001b[0m\u001b[0mby\u001b[0m\u001b[0;34m=\u001b[0m\u001b[0;34m'Area Under Curve'\u001b[0m\u001b[0;34m,\u001b[0m \u001b[0mascending\u001b[0m\u001b[0;34m=\u001b[0m\u001b[0;32mFalse\u001b[0m\u001b[0;34m)\u001b[0m\u001b[0;34m)\u001b[0m\u001b[0;34m\u001b[0m\u001b[0;34m\u001b[0m\u001b[0m\n",
            "\u001b[0;32m<ipython-input-14-9671a78f0063>\u001b[0m in \u001b[0;36mbatch_classify\u001b[0;34m(X_train_transformed, y_train, X_test_transformed, y_test, verbose)\u001b[0m\n\u001b[1;32m     20\u001b[0m         \u001b[0mt_stop\u001b[0m \u001b[0;34m=\u001b[0m \u001b[0mprocess_time\u001b[0m\u001b[0;34m(\u001b[0m\u001b[0;34m)\u001b[0m\u001b[0;34m\u001b[0m\u001b[0;34m\u001b[0m\u001b[0m\n\u001b[1;32m     21\u001b[0m         \u001b[0mt_elapsed\u001b[0m \u001b[0;34m=\u001b[0m \u001b[0mt_stop\u001b[0m \u001b[0;34m-\u001b[0m \u001b[0mt_start\u001b[0m\u001b[0;34m\u001b[0m\u001b[0;34m\u001b[0m\u001b[0m\n\u001b[0;32m---> 22\u001b[0;31m         \u001b[0mclassifier_model\u001b[0m \u001b[0;34m=\u001b[0m \u001b[0mpredict_tweet\u001b[0m\u001b[0;34m(\u001b[0m\u001b[0mkey\u001b[0m\u001b[0;34m)\u001b[0m\u001b[0;34m\u001b[0m\u001b[0;34m\u001b[0m\u001b[0m\n\u001b[0m\u001b[1;32m     23\u001b[0m         \u001b[0my_predicted\u001b[0m \u001b[0;34m=\u001b[0m \u001b[0mclassifier_model\u001b[0m\u001b[0;34m.\u001b[0m\u001b[0mpredict\u001b[0m\u001b[0;34m(\u001b[0m\u001b[0mX_test_transformed\u001b[0m\u001b[0;34m)\u001b[0m\u001b[0;34m\u001b[0m\u001b[0;34m\u001b[0m\u001b[0m\n\u001b[1;32m     24\u001b[0m         \u001b[0mdf_results\u001b[0m\u001b[0;34m.\u001b[0m\u001b[0mloc\u001b[0m\u001b[0;34m[\u001b[0m\u001b[0mcount\u001b[0m\u001b[0;34m,\u001b[0m\u001b[0;34m'Classifier'\u001b[0m\u001b[0;34m]\u001b[0m \u001b[0;34m=\u001b[0m \u001b[0mkey\u001b[0m\u001b[0;34m\u001b[0m\u001b[0;34m\u001b[0m\u001b[0m\n",
            "\u001b[0;32m<ipython-input-15-242c4b2b5595>\u001b[0m in \u001b[0;36mpredict_tweet\u001b[0;34m(model)\u001b[0m\n\u001b[1;32m      1\u001b[0m \u001b[0;32mimport\u001b[0m \u001b[0mpickle\u001b[0m\u001b[0;34m\u001b[0m\u001b[0;34m\u001b[0m\u001b[0m\n\u001b[1;32m      2\u001b[0m \u001b[0;32mdef\u001b[0m \u001b[0mpredict_tweet\u001b[0m\u001b[0;34m(\u001b[0m\u001b[0mmodel\u001b[0m\u001b[0;34m)\u001b[0m\u001b[0;34m:\u001b[0m\u001b[0;34m\u001b[0m\u001b[0;34m\u001b[0m\u001b[0m\n\u001b[0;32m----> 3\u001b[0;31m   \u001b[0;32mwith\u001b[0m \u001b[0mopen\u001b[0m\u001b[0;34m(\u001b[0m\u001b[0;34mf\"/content/gdrive/MyDrive/project/{model}.pkl\"\u001b[0m\u001b[0;34m,\u001b[0m \u001b[0;34m'rb'\u001b[0m\u001b[0;34m)\u001b[0m \u001b[0;32mas\u001b[0m \u001b[0mfile\u001b[0m\u001b[0;34m:\u001b[0m\u001b[0;34m\u001b[0m\u001b[0;34m\u001b[0m\u001b[0m\n\u001b[0m\u001b[1;32m      4\u001b[0m     \u001b[0mclassifier\u001b[0m \u001b[0;34m=\u001b[0m \u001b[0mpickle\u001b[0m\u001b[0;34m.\u001b[0m\u001b[0mload\u001b[0m\u001b[0;34m(\u001b[0m\u001b[0mfile\u001b[0m\u001b[0;34m)\u001b[0m\u001b[0;34m\u001b[0m\u001b[0;34m\u001b[0m\u001b[0m\n\u001b[1;32m      5\u001b[0m   \u001b[0;32mreturn\u001b[0m \u001b[0mclassifier\u001b[0m\u001b[0;34m\u001b[0m\u001b[0;34m\u001b[0m\u001b[0m\n",
            "\u001b[0;31mFileNotFoundError\u001b[0m: [Errno 2] No such file or directory: '/content/gdrive/MyDrive/project/Gradient Boosting.pkl'"
          ]
        },
        {
          "output_type": "display_data",
          "data": {
            "text/plain": [
              "<Figure size 432x288 with 1 Axes>"
            ],
            "image/png": "[encoded data removed]"
          },
          "metadata": {
            "needs_background": "light"
          }
        }
      ],
      "source": [
        "df_results = batch_classify(X_train_transformed, y_train, X_test_transformed, y_test)\n",
        "print(df_results.sort_values(by='Area Under Curve', ascending=False))"
      ]
    },
    {
      "cell_type": "markdown",
      "source": [
        "# Save Model"
      ],
      "metadata": {
        "id": "Cu9B0T4B3Ruv"
      }
    },
    {
      "cell_type": "code",
      "source": [
        "import pickle\n",
        "def save_model(root_path, model_names, classifiers):\n",
        "  for model_name in model_names:\n",
        "    final_path = root_path + \"/\" + f\"{model_name}.pkl\"\n",
        "    with open(final_path, 'wb') as file:\n",
        "      pickle.dump(classifiers[model_name], file)\n",
        "    print(f\"Model {model_name} save in {final_path}\")\n"
      ],
      "metadata": {
        "id": "uOieEqWT3Vtd"
      },
      "execution_count": null,
      "outputs": []
    },
    {
      "cell_type": "code",
      "source": [
        "save_model(\"/content/gdrive/MyDrive/project\", classifiers.keys(), classifiers)"
      ],
      "metadata": {
        "colab": {
          "base_uri": "https://localhost:8080/"
        },
        "id": "3_hchq4eDIl3",
        "outputId": "0073e483-6fdd-4bf1-8162-dea2c5ad4faa"
      },
      "execution_count": null,
      "outputs": [
        {
          "output_type": "stream",
          "name": "stdout",
          "text": [
            "Model Logistic Regression save in /content/gdrive/MyDrive/project/Logistic Regression.pkl\n",
            "Model Decision Tree save in /content/gdrive/MyDrive/project/Decision Tree.pkl\n",
            "Model k-Nearest Neighbors save in /content/gdrive/MyDrive/project/k-Nearest Neighbors.pkl\n",
            "Model Linear SVM save in /content/gdrive/MyDrive/project/Linear SVM.pkl\n",
            "Model Gradient Boosting Classifier save in /content/gdrive/MyDrive/project/Gradient Boosting Classifier.pkl\n",
            "Model Random Forest save in /content/gdrive/MyDrive/project/Random Forest.pkl\n",
            "Model RidgeClassifier save in /content/gdrive/MyDrive/project/RidgeClassifier.pkl\n"
          ]
        }
      ]
    },
    {
      "cell_type": "code",
      "source": [
        "import pickle\n",
        "with open('/content/gdrive/MyDrive/project/Decision Tree.pkl', 'rb') as f:\n",
        "  lr = pickle.load(f)\n",
        "\n",
        "import numpy\n",
        "a = numpy.array([\"10 positive case\",\"social distancing musrt be maintained\", \"I bought a new car\", \" \"])\n",
        "array = tweets_pipeline.transform(a)\n",
        "print(lr.predict(array))"
      ],
      "metadata": {
        "colab": {
          "base_uri": "https://localhost:8080/"
        },
        "id": "X1soenu74L34",
        "outputId": "a290d94e-87b2-48e9-efd2-a0885e9d2198"
      },
      "execution_count": null,
      "outputs": [
        {
          "output_type": "stream",
          "name": "stdout",
          "text": [
            "[1 1 0 0]\n"
          ]
        }
      ]
    },
    {
      "cell_type": "code",
      "source": [
        "!pwd"
      ],
      "metadata": {
        "id": "tOyC_olqgN6Q",
        "colab": {
          "base_uri": "https://localhost:8080/"
        },
        "outputId": "24037faa-9acf-483e-9ae3-a3bd3424d11d"
      },
      "execution_count": null,
      "outputs": [
        {
          "output_type": "stream",
          "name": "stdout",
          "text": [
            "/content\n"
          ]
        }
      ]
    },
    {
      "cell_type": "code",
      "source": [],
      "metadata": {
        "id": "iRwd2V0fd2RK"
      },
      "execution_count": null,
      "outputs": []
    }
  ],
  "metadata": {
    "accelerator": "GPU",
    "colab": {
      "provenance": [],
      "collapsed_sections": [
        "C5w3xumyoGZZ",
        "7h_A5bMjoaTl",
        "IPjTTyQdpFoJ"
      ]
    },
    "kernelspec": {
      "display_name": "Python 3",
      "name": "python3"
    },
    "language_info": {
      "name": "python"
    }
  },
  "nbformat": 4,
  "nbformat_minor": 0
}